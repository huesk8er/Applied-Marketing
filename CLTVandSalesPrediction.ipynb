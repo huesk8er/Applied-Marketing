{
 "cells": [
  {
   "cell_type": "markdown",
   "metadata": {},
   "source": [
    "# Customer Life Time Value and Sales prediction"
   ]
  },
  {
   "cell_type": "markdown",
   "metadata": {},
   "source": [
    "## 1. Background\n",
    "The Pareto Principle principle is simple yet powerful and important. It was named after the Italian economist, Vilfredo Pareto. In 1906 he found that 80% of the Italian land was owned by 20% of the population. \n",
    "\n",
    "What made Pareto's finding more essential was the high frequency occurring of the 80/20 distribution. For example, in general, 20% of your customers represent 80% of your sales. And 20% of your time produces 80% of your results. And so on.\n",
    "\n",
    "Nowadays, the '80/20' principle often be called as an incredible tool for the growth of your business. For an instant, companies look for the similarities in their top 20% customers and find more customers like them, at the same time, taking good care to exist customers is less expensive than looking for new ones. In either way, extending or maintaining the market is costly, so having an accurate budget is necessary. \n",
    "\n",
    "Here it comes to the Customer Life Time Value (CLTV) - the total amount a customer is expected to spend on a business, this figure helps to define the investment in acquiring new customers and retaining existing ones. \n",
    "\n",
    "In this case study, I will use a dataset from an online retail company in the UK to calculate their CLTV and use Linear Regression to predict the next month sales base on existing customers. \n",
    "## 2. About the dataset. \n",
    "The dataset is donated and publiced on Kaggle, the version using in this analysis was downloaded from https://www.kaggle.com/vijayuv/onlineretail. For the description on the preview of the dataset, the business focused on housewares and stationery, it did shipping outside of the UK as well. There is no addition about the business, just the dataset alone. \n",
    "Therefore, we will do exploratory analysis to have a better understanding on the business situation."
   ]
  },
  {
   "cell_type": "markdown",
   "metadata": {},
   "source": [
    "## 3. Exploratory Analysis"
   ]
  },
  {
   "cell_type": "code",
   "execution_count": 1,
   "metadata": {},
   "outputs": [],
   "source": [
    "#Loading libraries \n",
    "import numpy as np\n",
    "import pandas as pd\n",
    "import matplotlib.pyplot as plt\n",
    "import seaborn as sns"
   ]
  },
  {
   "cell_type": "code",
   "execution_count": 2,
   "metadata": {},
   "outputs": [
    {
     "data": {
      "text/html": [
       "<div>\n",
       "<style scoped>\n",
       "    .dataframe tbody tr th:only-of-type {\n",
       "        vertical-align: middle;\n",
       "    }\n",
       "\n",
       "    .dataframe tbody tr th {\n",
       "        vertical-align: top;\n",
       "    }\n",
       "\n",
       "    .dataframe thead th {\n",
       "        text-align: right;\n",
       "    }\n",
       "</style>\n",
       "<table border=\"1\" class=\"dataframe\">\n",
       "  <thead>\n",
       "    <tr style=\"text-align: right;\">\n",
       "      <th></th>\n",
       "      <th>InvoiceNo</th>\n",
       "      <th>StockCode</th>\n",
       "      <th>Description</th>\n",
       "      <th>Quantity</th>\n",
       "      <th>InvoiceDate</th>\n",
       "      <th>UnitPrice</th>\n",
       "      <th>CustomerID</th>\n",
       "      <th>Country</th>\n",
       "    </tr>\n",
       "  </thead>\n",
       "  <tbody>\n",
       "    <tr>\n",
       "      <th>0</th>\n",
       "      <td>536365</td>\n",
       "      <td>85123A</td>\n",
       "      <td>WHITE HANGING HEART T-LIGHT HOLDER</td>\n",
       "      <td>6</td>\n",
       "      <td>12/1/2010 8:26</td>\n",
       "      <td>2.55</td>\n",
       "      <td>17850.0</td>\n",
       "      <td>United Kingdom</td>\n",
       "    </tr>\n",
       "    <tr>\n",
       "      <th>1</th>\n",
       "      <td>536365</td>\n",
       "      <td>71053</td>\n",
       "      <td>WHITE METAL LANTERN</td>\n",
       "      <td>6</td>\n",
       "      <td>12/1/2010 8:26</td>\n",
       "      <td>3.39</td>\n",
       "      <td>17850.0</td>\n",
       "      <td>United Kingdom</td>\n",
       "    </tr>\n",
       "    <tr>\n",
       "      <th>2</th>\n",
       "      <td>536365</td>\n",
       "      <td>84406B</td>\n",
       "      <td>CREAM CUPID HEARTS COAT HANGER</td>\n",
       "      <td>8</td>\n",
       "      <td>12/1/2010 8:26</td>\n",
       "      <td>2.75</td>\n",
       "      <td>17850.0</td>\n",
       "      <td>United Kingdom</td>\n",
       "    </tr>\n",
       "    <tr>\n",
       "      <th>3</th>\n",
       "      <td>536365</td>\n",
       "      <td>84029G</td>\n",
       "      <td>KNITTED UNION FLAG HOT WATER BOTTLE</td>\n",
       "      <td>6</td>\n",
       "      <td>12/1/2010 8:26</td>\n",
       "      <td>3.39</td>\n",
       "      <td>17850.0</td>\n",
       "      <td>United Kingdom</td>\n",
       "    </tr>\n",
       "    <tr>\n",
       "      <th>4</th>\n",
       "      <td>536365</td>\n",
       "      <td>84029E</td>\n",
       "      <td>RED WOOLLY HOTTIE WHITE HEART.</td>\n",
       "      <td>6</td>\n",
       "      <td>12/1/2010 8:26</td>\n",
       "      <td>3.39</td>\n",
       "      <td>17850.0</td>\n",
       "      <td>United Kingdom</td>\n",
       "    </tr>\n",
       "  </tbody>\n",
       "</table>\n",
       "</div>"
      ],
      "text/plain": [
       "  InvoiceNo StockCode                          Description  Quantity  \\\n",
       "0    536365    85123A   WHITE HANGING HEART T-LIGHT HOLDER         6   \n",
       "1    536365     71053                  WHITE METAL LANTERN         6   \n",
       "2    536365    84406B       CREAM CUPID HEARTS COAT HANGER         8   \n",
       "3    536365    84029G  KNITTED UNION FLAG HOT WATER BOTTLE         6   \n",
       "4    536365    84029E       RED WOOLLY HOTTIE WHITE HEART.         6   \n",
       "\n",
       "      InvoiceDate  UnitPrice  CustomerID         Country  \n",
       "0  12/1/2010 8:26       2.55     17850.0  United Kingdom  \n",
       "1  12/1/2010 8:26       3.39     17850.0  United Kingdom  \n",
       "2  12/1/2010 8:26       2.75     17850.0  United Kingdom  \n",
       "3  12/1/2010 8:26       3.39     17850.0  United Kingdom  \n",
       "4  12/1/2010 8:26       3.39     17850.0  United Kingdom  "
      ]
     },
     "execution_count": 2,
     "metadata": {},
     "output_type": "execute_result"
    }
   ],
   "source": [
    "#Loading the dataset \n",
    "online = pd.read_csv('/Users/huedinh/Desktop/Data projects/Onlineretail/OnlineRetail.csv',  engine='python')\n",
    "online.head()"
   ]
  },
  {
   "cell_type": "code",
   "execution_count": 3,
   "metadata": {},
   "outputs": [
    {
     "data": {
      "text/html": [
       "<div>\n",
       "<style scoped>\n",
       "    .dataframe tbody tr th:only-of-type {\n",
       "        vertical-align: middle;\n",
       "    }\n",
       "\n",
       "    .dataframe tbody tr th {\n",
       "        vertical-align: top;\n",
       "    }\n",
       "\n",
       "    .dataframe thead th {\n",
       "        text-align: right;\n",
       "    }\n",
       "</style>\n",
       "<table border=\"1\" class=\"dataframe\">\n",
       "  <thead>\n",
       "    <tr style=\"text-align: right;\">\n",
       "      <th></th>\n",
       "      <th>InvoiceNo</th>\n",
       "      <th>StockCode</th>\n",
       "      <th>Description</th>\n",
       "      <th>Quantity</th>\n",
       "      <th>InvoiceDate</th>\n",
       "      <th>UnitPrice</th>\n",
       "      <th>CustomerID</th>\n",
       "      <th>Country</th>\n",
       "      <th>invoice_value</th>\n",
       "      <th>Year</th>\n",
       "      <th>Month</th>\n",
       "      <th>Day</th>\n",
       "      <th>Date</th>\n",
       "    </tr>\n",
       "  </thead>\n",
       "  <tbody>\n",
       "    <tr>\n",
       "      <th>541904</th>\n",
       "      <td>581587</td>\n",
       "      <td>22613</td>\n",
       "      <td>PACK OF 20 SPACEBOY NAPKINS</td>\n",
       "      <td>12</td>\n",
       "      <td>12/9/2011 12:50</td>\n",
       "      <td>0.85</td>\n",
       "      <td>12680.0</td>\n",
       "      <td>France</td>\n",
       "      <td>10.20</td>\n",
       "      <td>2011</td>\n",
       "      <td>12</td>\n",
       "      <td>9</td>\n",
       "      <td>2011-12-09</td>\n",
       "    </tr>\n",
       "    <tr>\n",
       "      <th>541905</th>\n",
       "      <td>581587</td>\n",
       "      <td>22899</td>\n",
       "      <td>CHILDREN'S APRON DOLLY GIRL</td>\n",
       "      <td>6</td>\n",
       "      <td>12/9/2011 12:50</td>\n",
       "      <td>2.10</td>\n",
       "      <td>12680.0</td>\n",
       "      <td>France</td>\n",
       "      <td>12.60</td>\n",
       "      <td>2011</td>\n",
       "      <td>12</td>\n",
       "      <td>9</td>\n",
       "      <td>2011-12-09</td>\n",
       "    </tr>\n",
       "    <tr>\n",
       "      <th>541906</th>\n",
       "      <td>581587</td>\n",
       "      <td>23254</td>\n",
       "      <td>CHILDRENS CUTLERY DOLLY GIRL</td>\n",
       "      <td>4</td>\n",
       "      <td>12/9/2011 12:50</td>\n",
       "      <td>4.15</td>\n",
       "      <td>12680.0</td>\n",
       "      <td>France</td>\n",
       "      <td>16.60</td>\n",
       "      <td>2011</td>\n",
       "      <td>12</td>\n",
       "      <td>9</td>\n",
       "      <td>2011-12-09</td>\n",
       "    </tr>\n",
       "    <tr>\n",
       "      <th>541907</th>\n",
       "      <td>581587</td>\n",
       "      <td>23255</td>\n",
       "      <td>CHILDRENS CUTLERY CIRCUS PARADE</td>\n",
       "      <td>4</td>\n",
       "      <td>12/9/2011 12:50</td>\n",
       "      <td>4.15</td>\n",
       "      <td>12680.0</td>\n",
       "      <td>France</td>\n",
       "      <td>16.60</td>\n",
       "      <td>2011</td>\n",
       "      <td>12</td>\n",
       "      <td>9</td>\n",
       "      <td>2011-12-09</td>\n",
       "    </tr>\n",
       "    <tr>\n",
       "      <th>541908</th>\n",
       "      <td>581587</td>\n",
       "      <td>22138</td>\n",
       "      <td>BAKING SET 9 PIECE RETROSPOT</td>\n",
       "      <td>3</td>\n",
       "      <td>12/9/2011 12:50</td>\n",
       "      <td>4.95</td>\n",
       "      <td>12680.0</td>\n",
       "      <td>France</td>\n",
       "      <td>14.85</td>\n",
       "      <td>2011</td>\n",
       "      <td>12</td>\n",
       "      <td>9</td>\n",
       "      <td>2011-12-09</td>\n",
       "    </tr>\n",
       "  </tbody>\n",
       "</table>\n",
       "</div>"
      ],
      "text/plain": [
       "       InvoiceNo StockCode                      Description  Quantity  \\\n",
       "541904    581587     22613      PACK OF 20 SPACEBOY NAPKINS        12   \n",
       "541905    581587     22899     CHILDREN'S APRON DOLLY GIRL          6   \n",
       "541906    581587     23254    CHILDRENS CUTLERY DOLLY GIRL          4   \n",
       "541907    581587     23255  CHILDRENS CUTLERY CIRCUS PARADE         4   \n",
       "541908    581587     22138    BAKING SET 9 PIECE RETROSPOT          3   \n",
       "\n",
       "            InvoiceDate  UnitPrice  CustomerID Country  invoice_value  Year  \\\n",
       "541904  12/9/2011 12:50       0.85     12680.0  France          10.20  2011   \n",
       "541905  12/9/2011 12:50       2.10     12680.0  France          12.60  2011   \n",
       "541906  12/9/2011 12:50       4.15     12680.0  France          16.60  2011   \n",
       "541907  12/9/2011 12:50       4.15     12680.0  France          16.60  2011   \n",
       "541908  12/9/2011 12:50       4.95     12680.0  France          14.85  2011   \n",
       "\n",
       "        Month  Day        Date  \n",
       "541904     12    9  2011-12-09  \n",
       "541905     12    9  2011-12-09  \n",
       "541906     12    9  2011-12-09  \n",
       "541907     12    9  2011-12-09  \n",
       "541908     12    9  2011-12-09  "
      ]
     },
     "execution_count": 3,
     "metadata": {},
     "output_type": "execute_result"
    }
   ],
   "source": [
    "#Adding columns: invoice_value,Year, Month, Day and Date to online dataframe\n",
    "online['invoice_value'] = online['Quantity']*online['UnitPrice']\n",
    "online['Year'] = pd.DatetimeIndex(online['InvoiceDate']).year\n",
    "online['Month'] = pd.DatetimeIndex(online['InvoiceDate']).month\n",
    "online['Day'] =  pd.DatetimeIndex(online['InvoiceDate']).day\n",
    "online['Date'] = pd.DatetimeIndex(online['InvoiceDate']).date\n",
    "online.tail()"
   ]
  },
  {
   "cell_type": "code",
   "execution_count": 4,
   "metadata": {},
   "outputs": [],
   "source": [
    "#Monthly revenue is sum up all 'invoice_value' in a month\n",
    "monthly = online.groupby(['Year', 'Month'])['invoice_value'].sum()\n",
    "monthly = monthly.to_frame()\n",
    "monthly = monthly.set_index(pd.Index(monthly.index))\n"
   ]
  },
  {
   "cell_type": "code",
   "execution_count": 5,
   "metadata": {},
   "outputs": [
    {
     "data": {
      "image/png": "[encoded data removed]",
      "text/plain": [
       "<Figure size 720x432 with 1 Axes>"
      ]
     },
     "metadata": {},
     "output_type": "display_data"
    }
   ],
   "source": [
    "#Plotting the monthly revenue\n",
    "sns.set_style('whitegrid')\n",
    "h = sns.barplot(x = 'invoice_value', y = monthly.index, data = monthly, color = 'lightseagreen')\n",
    "h.figure.set_size_inches(10, 6)\n",
    "h.set_xlabel('Revenue in Millions GBP', size = 12)\n",
    "h.set_ylabel('Month of Year', size = 12)\n",
    "h.set_title('Monthly Revenue', size = 14, y = 1.05)\n",
    "plt.show()"
   ]
  },
  {
   "cell_type": "code",
   "execution_count": 6,
   "metadata": {},
   "outputs": [
    {
     "data": {
      "text/html": [
       "<div>\n",
       "<style scoped>\n",
       "    .dataframe tbody tr th:only-of-type {\n",
       "        vertical-align: middle;\n",
       "    }\n",
       "\n",
       "    .dataframe tbody tr th {\n",
       "        vertical-align: top;\n",
       "    }\n",
       "\n",
       "    .dataframe thead th {\n",
       "        text-align: right;\n",
       "    }\n",
       "</style>\n",
       "<table border=\"1\" class=\"dataframe\">\n",
       "  <thead>\n",
       "    <tr style=\"text-align: right;\">\n",
       "      <th></th>\n",
       "      <th>invoice_value</th>\n",
       "    </tr>\n",
       "    <tr>\n",
       "      <th>Country</th>\n",
       "      <th></th>\n",
       "    </tr>\n",
       "  </thead>\n",
       "  <tbody>\n",
       "    <tr>\n",
       "      <th>United Kingdom</th>\n",
       "      <td>8.187806e+06</td>\n",
       "    </tr>\n",
       "    <tr>\n",
       "      <th>Netherlands</th>\n",
       "      <td>2.846615e+05</td>\n",
       "    </tr>\n",
       "    <tr>\n",
       "      <th>EIRE</th>\n",
       "      <td>2.632768e+05</td>\n",
       "    </tr>\n",
       "    <tr>\n",
       "      <th>Germany</th>\n",
       "      <td>2.216982e+05</td>\n",
       "    </tr>\n",
       "    <tr>\n",
       "      <th>France</th>\n",
       "      <td>1.974039e+05</td>\n",
       "    </tr>\n",
       "  </tbody>\n",
       "</table>\n",
       "</div>"
      ],
      "text/plain": [
       "                invoice_value\n",
       "Country                      \n",
       "United Kingdom   8.187806e+06\n",
       "Netherlands      2.846615e+05\n",
       "EIRE             2.632768e+05\n",
       "Germany          2.216982e+05\n",
       "France           1.974039e+05"
      ]
     },
     "execution_count": 6,
     "metadata": {},
     "output_type": "execute_result"
    }
   ],
   "source": [
    "#Revenue by countries is sum up of all 'invoice_value' for each country.\n",
    "revenue_per_country = online.groupby(['Country'])['invoice_value'].sum().sort_values(ascending=False)\n",
    "revenue_per_country = revenue_per_country.to_frame()\n",
    "revenue_per_country.head()"
   ]
  },
  {
   "cell_type": "code",
   "execution_count": 7,
   "metadata": {},
   "outputs": [
    {
     "data": {
      "image/png": "[encoded data removed]",
      "text/plain": [
       "<Figure size 864x720 with 1 Axes>"
      ]
     },
     "metadata": {},
     "output_type": "display_data"
    }
   ],
   "source": [
    "#Plotting countries revenue. As the domestic revenue is 30 times higher than the 2nd highest foreign market - Netherlands, \n",
    "#So we exclude the UK from our chart, to see the values in other countries. \n",
    "\n",
    "#Excuding the UK from the dataset\n",
    "country = revenue_per_country[revenue_per_country.index != 'United Kingdom']\n",
    "\n",
    "#Plotting \n",
    "\n",
    "g = sns.barplot(x = 'invoice_value', y = country.index , data = country, color = 'darkcyan')\n",
    "g.figure.set_size_inches(12, 10)\n",
    "g.set_xlabel('Revenue in GBP', size = 12)\n",
    "g.set_ylabel('Country', size = 12)\n",
    "g.set_title('Revenue in Countries outside the UK', size = 14, y = 1.05)\n",
    "plt.show()"
   ]
  },
  {
   "cell_type": "code",
   "execution_count": 9,
   "metadata": {},
   "outputs": [
    {
     "name": "stdout",
     "output_type": "stream",
     "text": [
      "Total revenue of the business represented in the dataset is 9747748.0  GBP\n"
     ]
    }
   ],
   "source": [
    "#The total revenue \n",
    "rev = online['invoice_value'].sum()\n",
    "print('Total revenue of the business represented in the dataset is', np.round(rev,0), ' GBP')"
   ]
  },
  {
   "cell_type": "markdown",
   "metadata": {},
   "source": [
    "### 3.1 An overview of the dataset and the business\n",
    "The dataset recorded sales transactions from 1/12/2010 to 9/12/2011, 12 months and 9 days. The total revenue for all recorded time is 9,74 million GBP(assumption),  for the last 9 days of the dataset is about 0.42 million GBP, so annual income for this business recorded is 9.3 million GBP. \n",
    "\n",
    "Nov is the busiest month with the highest earnings, following by October and September. Revenue from earlier months of the year was much lower than later months. \n",
    "\n",
    "With only 9 days in Dec 2011, revenue reached 0.42 million GBP, from my prediction, it could get up to 1.5 million by the end of the month due to holiday season. If that prediction is accurate, the earnings of Dec 2011 would be doubled of Dec the previous year. Another assumption is, this was a new business. \n",
    "\n",
    "The foreign market of the business is surrounding European countries and Australia (!). However, it only took 8.5% total revenue of the company.\n",
    "\n",
    "For further analysis, I will exclude Dec 2011 from the dataset\n"
   ]
  },
  {
   "cell_type": "code",
   "execution_count": 10,
   "metadata": {},
   "outputs": [],
   "source": [
    "#Excluding Dec, 2011 \n",
    "df1 = online[(online['Year']==2010)]\n",
    "df2 = online[(online['Month']!=12)]\n",
    "df = pd.concat([df1,df2])\n"
   ]
  },
  {
   "cell_type": "code",
   "execution_count": 11,
   "metadata": {},
   "outputs": [],
   "source": [
    "#Groupping revenue per invoice \n",
    "invoice = df.groupby(['Month','InvoiceNo'])['invoice_value'].sum()\n",
    "invoice = invoice.to_frame()\n",
    "invoice = invoice.reset_index()"
   ]
  },
  {
   "cell_type": "code",
   "execution_count": 12,
   "metadata": {},
   "outputs": [
    {
     "data": {
      "image/png": "[encoded data removed]",
      "text/plain": [
       "<Figure size 1080x576 with 1 Axes>"
      ]
     },
     "metadata": {},
     "output_type": "display_data"
    }
   ],
   "source": [
    "#Plotting the invoice distribution for each month\n",
    "g = sns.boxplot(x = 'Month',y= 'invoice_value', data = invoice, order = [12, 1, 2, 3, 4, 5, 6, 7, 8, 9, 10, 11])\n",
    "g.set_title('Invoice values distribution over months', size = 16, y = 1.05)\n",
    "g.set_xlabel('Month', size = 14)\n",
    "g.set_ylabel('Invoice Value in GBP', size = 14)\n",
    "g.figure.set_size_inches(15, 8)\n",
    "plt.show()"
   ]
  },
  {
   "cell_type": "code",
   "execution_count": 13,
   "metadata": {},
   "outputs": [
    {
     "data": {
      "image/png": "[encoded data removed]",
      "text/plain": [
       "<Figure size 1080x864 with 1 Axes>"
      ]
     },
     "metadata": {},
     "output_type": "display_data"
    }
   ],
   "source": [
    "#There are big outliners in pervious plots, so we will slice into the smaller range with more density value\n",
    "g = sns.boxplot(x = 'Month',y= 'invoice_value', data = invoice, order = [12, 1, 2, 3, 4, 5, 6, 7, 8, 9, 10, 11])\n",
    "g.set_title('Invoice values distribution over months', size = 16, y = 1.05)\n",
    "g.set_xlabel('Month', size = 14)\n",
    "g.set_ylabel('Invoice Value in GBP', size = 14)\n",
    "g.figure.set_size_inches(15, 12)\n",
    "g.set_ylim(-5000, 10000)\n",
    "plt.show()"
   ]
  },
  {
   "cell_type": "code",
   "execution_count": 14,
   "metadata": {},
   "outputs": [
    {
     "data": {
      "image/png": "[encoded data removed]",
      "text/plain": [
       "<Figure size 1080x576 with 1 Axes>"
      ]
     },
     "metadata": {},
     "output_type": "display_data"
    }
   ],
   "source": [
    "#Groupping revenue by day\n",
    "daily = df.groupby(['Month', 'Day'])['invoice_value'].sum()\n",
    "daily = daily.to_frame()\n",
    "daily = daily.reset_index()\n",
    "\n",
    "#Plotting daily revenue distribution over months\n",
    "g = sns.boxplot(x = 'Month',y= 'invoice_value', data = daily, order = [12, 1, 2, 3, 4, 5, 6, 7, 8, 9, 10, 11])\n",
    "g.figure.set_size_inches(15, 8)\n",
    "g.set_title('Daily revenue distribution by month', size = 14, y = 1.05)\n",
    "g.set_ylabel('Daily Revenue - GBP', size = 12)\n",
    "g.set_xlabel('Month', size = 12)\n",
    "plt.show()"
   ]
  },
  {
   "cell_type": "markdown",
   "metadata": {},
   "source": [
    "### 3.2 Customer Analysis\n",
    "\n",
    "The first boxplot shows that dataset has numbers of extreme outliners. It looks like there were a couple of big contracts (or input mistakes) they were likely to make but then got cancelled. \n",
    "\n",
    "Many of other outliners dropped to the range of 20K GBP, which is way larger than an average bill of any normal person to buy for their home. In other words, they do business with other business as well. \n",
    "\n",
    "Zooming into the smaller range (The 2nd boxplot), the number of outliners still significant. Even though the invoice values are not much varied over months, but the daily revenue distribution over months (Box plot 3rd) are significantly different from months to months. Concretely, these outliners have effected strongly on daily income. There is not enough data to conclude, but I can predict that B2B had a big impact on this business. Taking good care of them would be the core strategy. "
   ]
  },
  {
   "cell_type": "markdown",
   "metadata": {},
   "source": [
    "### 3.3 Calculating CLTV\n",
    "\n",
    "There are multiple methods to calculate CLTV to use in specific purposes. For this business and the dataset available, I will estimate CLTV by the granular formula, which is driven by how frequency a customer purchases with the business, what are their average value per purchase and the estimate customer lifespan. \n",
    "\n",
    "Customer lifespan is a critical metric which heavily depended on the business model itself. When it comes to customer lifespan, it’s important to understand the difference between being a contractual and non-contractual business. Most online-stores are non-contractual businesses, it means, when a transaction is made, it is effectively over. From this article of https://www.shopify.ca/blog/customer-lifetime-value, I estimate the life-span of customer for this business is 24 months. "
   ]
  },
  {
   "cell_type": "code",
   "execution_count": 30,
   "metadata": {},
   "outputs": [
    {
     "name": "stdout",
     "output_type": "stream",
     "text": [
      "Average granular CLV is 804.4 GBP\n"
     ]
    }
   ],
   "source": [
    "#Granular CLTV Calculation \n",
    "\n",
    "#Calculate average revenue per invoice \n",
    "revenue_per_purchase = online.groupby(['InvoiceNo'])['invoice_value'].mean().mean()\n",
    "\n",
    "#Calculate average number unique invoices per customer per month\n",
    "freg = online.groupby(['CustomerID', 'Month'])['InvoiceNo'].nunique().mean()\n",
    "\n",
    "#Define customer life-spand to 24 months\n",
    "lifespand_months = 24\n",
    "\n",
    "#Calculate granular CLV\n",
    "cltv_granular = revenue_per_purchase*freg*lifespand_months\n",
    "\n",
    "# Print granular CLV value\n",
    "print('Average granular CLV is {:.1f} GBP'.format(cltv_granular))"
   ]
  },
  {
   "cell_type": "markdown",
   "metadata": {},
   "source": [
    "## 4. Using Linear Regression to predict next month's purchase"
   ]
  },
  {
   "cell_type": "markdown",
   "metadata": {},
   "source": [
    "Since existing customers are making the most sales for the next short period, I will build a simple linear regression model to predict the sales for the next month base on existing customers. The result will be used for the sales team and marketing team to estimate the effort they need to spend on next month to reach the sales target. (By attracting new customers) \n",
    "\n",
    "For specific, the model will use the data of previous months to predict the sales of November. The sales will be predicted on 5 keys factors recency, frequency, monetary, quantity_avg and quantity_total. To make the information less bias, I only include the data of 2011 for building the model. The data from Jan to Oct will be used for training, and the data of Nov will be used for testing. Because this is the historical data, so Nov data also included new customers from that month. I will exclude them so that the model will be using solidly on existing customers. \n"
   ]
  },
  {
   "cell_type": "code",
   "execution_count": 17,
   "metadata": {},
   "outputs": [
    {
     "data": {
      "text/plain": [
       "Month\n",
       "1     35147\n",
       "2     27707\n",
       "3     36748\n",
       "4     29916\n",
       "5     37030\n",
       "6     36874\n",
       "7     39518\n",
       "8     35284\n",
       "9     50226\n",
       "10    60742\n",
       "11    84711\n",
       "dtype: int64"
      ]
     },
     "execution_count": 17,
     "metadata": {},
     "output_type": "execute_result"
    }
   ],
   "source": [
    "#Inspecting for sales distribution by months\n",
    "df2.groupby(['Month']).size()"
   ]
  },
  {
   "cell_type": "code",
   "execution_count": 22,
   "metadata": {},
   "outputs": [
    {
     "name": "stderr",
     "output_type": "stream",
     "text": [
      "/Users/huedinh/venv36/lib/python3.6/site-packages/ipykernel_launcher.py:1: SettingWithCopyWarning: \n",
      "A value is trying to be set on a copy of a slice from a DataFrame.\n",
      "Try using .loc[row_indexer,col_indexer] = value instead\n",
      "\n",
      "See the caveats in the documentation: https://pandas.pydata.org/pandas-docs/stable/user_guide/indexing.html#returning-a-view-versus-a-copy\n",
      "  \"\"\"Entry point for launching an IPython kernel.\n",
      "/Users/huedinh/venv36/lib/python3.6/site-packages/ipykernel_launcher.py:7: FutureWarning: The pandas.datetime class is deprecated and will be removed from pandas in a future version. Import from datetime instead.\n",
      "  import sys\n"
     ]
    },
    {
     "name": "stdout",
     "output_type": "stream",
     "text": [
      "<class 'pandas.core.frame.DataFrame'>\n",
      "RangeIndex: 3838 entries, 0 to 3837\n",
      "Data columns (total 6 columns):\n",
      " #   Column          Non-Null Count  Dtype  \n",
      "---  ------          --------------  -----  \n",
      " 0   CustomerID      3838 non-null   float64\n",
      " 1   recency         3838 non-null   int64  \n",
      " 2   frequency       3838 non-null   int64  \n",
      " 3   monetary        3838 non-null   float64\n",
      " 4   quantity_avg    3838 non-null   float64\n",
      " 5   quantity_total  3838 non-null   int64  \n",
      "dtypes: float64(3), int64(3)\n",
      "memory usage: 180.0 KB\n"
     ]
    }
   ],
   "source": [
    "df2['Date'] = pd.to_datetime(df2['Date'])\n",
    "\n",
    "#Exclude target variable\n",
    "online_X=df2[df2['Month']!= 11] \n",
    "\n",
    "# Define the snapshot date\n",
    "NOW = pd.datetime(2011,11,1)\n",
    "\n",
    "# Calculate recency by subtracting current date from the latest InvoiceDate\n",
    "features = online_X.groupby('CustomerID').agg({\n",
    "  'Date': lambda x: (NOW - x.max()).days,\n",
    "  # Calculate frequency by counting unique number of invoices\n",
    "  'InvoiceNo': pd.Series.nunique,\n",
    "  # Calculate monetary value by summing all spend values\n",
    "  'invoice_value': np.sum,\n",
    "  # Calculate average and total quantity\n",
    "  'Quantity': ['mean', 'sum']}).reset_index()\n",
    "\n",
    "# Rename the columns\n",
    "features.columns = ['CustomerID', 'recency', 'frequency', 'monetary', 'quantity_avg', 'quantity_total']\n",
    "features.info()"
   ]
  },
  {
   "cell_type": "code",
   "execution_count": 23,
   "metadata": {},
   "outputs": [
    {
     "data": {
      "text/plain": [
       "<bound method DataFrame.info of Month       1   2   3   4   5   6   7   8   9   10  11\n",
       "CustomerID                                            \n",
       "12346.0      2   0   0   0   0   0   0   0   0   0   0\n",
       "12347.0      1   0   0   1   0   1   0   1   0   1   0\n",
       "12348.0      1   0   0   1   0   0   0   0   1   0   0\n",
       "12349.0      0   0   0   0   0   0   0   0   0   0   1\n",
       "12350.0      0   1   0   0   0   0   0   0   0   0   0\n",
       "...         ..  ..  ..  ..  ..  ..  ..  ..  ..  ..  ..\n",
       "18280.0      0   0   1   0   0   0   0   0   0   0   0\n",
       "18281.0      0   0   0   0   0   1   0   0   0   0   0\n",
       "18282.0      0   0   0   0   0   0   0   2   0   0   0\n",
       "18283.0      2   1   0   1   1   2   2   0   1   1   4\n",
       "18287.0      0   0   0   0   1   0   0   0   0   2   0\n",
       "\n",
       "[4197 rows x 11 columns]>"
      ]
     },
     "execution_count": 23,
     "metadata": {},
     "output_type": "execute_result"
    }
   ],
   "source": [
    "#Build pivot table with monthly transaction per customer \n",
    "cust_month_tx = pd.pivot_table(data = df2, index = ['CustomerID'], \n",
    "                              values = 'InvoiceNo', columns = ['Month'], \n",
    "                              aggfunc = pd.Series.nunique, fill_value = 0)\n",
    "\n",
    "cust_month_tx.info"
   ]
  },
  {
   "cell_type": "markdown",
   "metadata": {},
   "source": [
    "There are 3838 unique customers from October backward, and 4197 customers in November, that means, there are 359 new customers in November. Therefore, I will account this factor to the accuracy of the model. "
   ]
  },
  {
   "cell_type": "code",
   "execution_count": 24,
   "metadata": {},
   "outputs": [
    {
     "data": {
      "text/html": [
       "<div>\n",
       "<style scoped>\n",
       "    .dataframe tbody tr th:only-of-type {\n",
       "        vertical-align: middle;\n",
       "    }\n",
       "\n",
       "    .dataframe tbody tr th {\n",
       "        vertical-align: top;\n",
       "    }\n",
       "\n",
       "    .dataframe thead th {\n",
       "        text-align: right;\n",
       "    }\n",
       "</style>\n",
       "<table border=\"1\" class=\"dataframe\">\n",
       "  <thead>\n",
       "    <tr style=\"text-align: right;\">\n",
       "      <th></th>\n",
       "      <th>CustomerID</th>\n",
       "      <th>recency</th>\n",
       "      <th>frequency</th>\n",
       "      <th>monetary</th>\n",
       "      <th>quantity_avg</th>\n",
       "      <th>quantity_total</th>\n",
       "      <th>1</th>\n",
       "      <th>2</th>\n",
       "      <th>3</th>\n",
       "      <th>4</th>\n",
       "      <th>5</th>\n",
       "      <th>6</th>\n",
       "      <th>7</th>\n",
       "      <th>8</th>\n",
       "      <th>9</th>\n",
       "      <th>10</th>\n",
       "      <th>11</th>\n",
       "    </tr>\n",
       "  </thead>\n",
       "  <tbody>\n",
       "    <tr>\n",
       "      <th>0</th>\n",
       "      <td>12346.0</td>\n",
       "      <td>287</td>\n",
       "      <td>2</td>\n",
       "      <td>0.00</td>\n",
       "      <td>0.000000</td>\n",
       "      <td>0</td>\n",
       "      <td>2</td>\n",
       "      <td>0</td>\n",
       "      <td>0</td>\n",
       "      <td>0</td>\n",
       "      <td>0</td>\n",
       "      <td>0</td>\n",
       "      <td>0</td>\n",
       "      <td>0</td>\n",
       "      <td>0</td>\n",
       "      <td>0</td>\n",
       "      <td>0</td>\n",
       "    </tr>\n",
       "    <tr>\n",
       "      <th>1</th>\n",
       "      <td>12347.0</td>\n",
       "      <td>1</td>\n",
       "      <td>5</td>\n",
       "      <td>3373.39</td>\n",
       "      <td>13.907143</td>\n",
       "      <td>1947</td>\n",
       "      <td>1</td>\n",
       "      <td>0</td>\n",
       "      <td>0</td>\n",
       "      <td>1</td>\n",
       "      <td>0</td>\n",
       "      <td>1</td>\n",
       "      <td>0</td>\n",
       "      <td>1</td>\n",
       "      <td>0</td>\n",
       "      <td>1</td>\n",
       "      <td>0</td>\n",
       "    </tr>\n",
       "    <tr>\n",
       "      <th>2</th>\n",
       "      <td>12348.0</td>\n",
       "      <td>37</td>\n",
       "      <td>3</td>\n",
       "      <td>904.44</td>\n",
       "      <td>77.642857</td>\n",
       "      <td>1087</td>\n",
       "      <td>1</td>\n",
       "      <td>0</td>\n",
       "      <td>0</td>\n",
       "      <td>1</td>\n",
       "      <td>0</td>\n",
       "      <td>0</td>\n",
       "      <td>0</td>\n",
       "      <td>0</td>\n",
       "      <td>1</td>\n",
       "      <td>0</td>\n",
       "      <td>0</td>\n",
       "    </tr>\n",
       "    <tr>\n",
       "      <th>3</th>\n",
       "      <td>12350.0</td>\n",
       "      <td>272</td>\n",
       "      <td>1</td>\n",
       "      <td>334.40</td>\n",
       "      <td>11.588235</td>\n",
       "      <td>197</td>\n",
       "      <td>0</td>\n",
       "      <td>1</td>\n",
       "      <td>0</td>\n",
       "      <td>0</td>\n",
       "      <td>0</td>\n",
       "      <td>0</td>\n",
       "      <td>0</td>\n",
       "      <td>0</td>\n",
       "      <td>0</td>\n",
       "      <td>0</td>\n",
       "      <td>0</td>\n",
       "    </tr>\n",
       "    <tr>\n",
       "      <th>4</th>\n",
       "      <td>12352.0</td>\n",
       "      <td>34</td>\n",
       "      <td>10</td>\n",
       "      <td>1233.68</td>\n",
       "      <td>4.287500</td>\n",
       "      <td>343</td>\n",
       "      <td>0</td>\n",
       "      <td>1</td>\n",
       "      <td>7</td>\n",
       "      <td>0</td>\n",
       "      <td>0</td>\n",
       "      <td>0</td>\n",
       "      <td>0</td>\n",
       "      <td>0</td>\n",
       "      <td>2</td>\n",
       "      <td>0</td>\n",
       "      <td>1</td>\n",
       "    </tr>\n",
       "    <tr>\n",
       "      <th>...</th>\n",
       "      <td>...</td>\n",
       "      <td>...</td>\n",
       "      <td>...</td>\n",
       "      <td>...</td>\n",
       "      <td>...</td>\n",
       "      <td>...</td>\n",
       "      <td>...</td>\n",
       "      <td>...</td>\n",
       "      <td>...</td>\n",
       "      <td>...</td>\n",
       "      <td>...</td>\n",
       "      <td>...</td>\n",
       "      <td>...</td>\n",
       "      <td>...</td>\n",
       "      <td>...</td>\n",
       "      <td>...</td>\n",
       "      <td>...</td>\n",
       "    </tr>\n",
       "    <tr>\n",
       "      <th>3833</th>\n",
       "      <td>18280.0</td>\n",
       "      <td>239</td>\n",
       "      <td>1</td>\n",
       "      <td>180.60</td>\n",
       "      <td>4.500000</td>\n",
       "      <td>45</td>\n",
       "      <td>0</td>\n",
       "      <td>0</td>\n",
       "      <td>1</td>\n",
       "      <td>0</td>\n",
       "      <td>0</td>\n",
       "      <td>0</td>\n",
       "      <td>0</td>\n",
       "      <td>0</td>\n",
       "      <td>0</td>\n",
       "      <td>0</td>\n",
       "      <td>0</td>\n",
       "    </tr>\n",
       "    <tr>\n",
       "      <th>3834</th>\n",
       "      <td>18281.0</td>\n",
       "      <td>142</td>\n",
       "      <td>1</td>\n",
       "      <td>80.82</td>\n",
       "      <td>7.714286</td>\n",
       "      <td>54</td>\n",
       "      <td>0</td>\n",
       "      <td>0</td>\n",
       "      <td>0</td>\n",
       "      <td>0</td>\n",
       "      <td>0</td>\n",
       "      <td>1</td>\n",
       "      <td>0</td>\n",
       "      <td>0</td>\n",
       "      <td>0</td>\n",
       "      <td>0</td>\n",
       "      <td>0</td>\n",
       "    </tr>\n",
       "    <tr>\n",
       "      <th>3835</th>\n",
       "      <td>18282.0</td>\n",
       "      <td>84</td>\n",
       "      <td>2</td>\n",
       "      <td>98.76</td>\n",
       "      <td>8.750000</td>\n",
       "      <td>70</td>\n",
       "      <td>0</td>\n",
       "      <td>0</td>\n",
       "      <td>0</td>\n",
       "      <td>0</td>\n",
       "      <td>0</td>\n",
       "      <td>0</td>\n",
       "      <td>0</td>\n",
       "      <td>2</td>\n",
       "      <td>0</td>\n",
       "      <td>0</td>\n",
       "      <td>0</td>\n",
       "    </tr>\n",
       "    <tr>\n",
       "      <th>3836</th>\n",
       "      <td>18283.0</td>\n",
       "      <td>5</td>\n",
       "      <td>11</td>\n",
       "      <td>1235.32</td>\n",
       "      <td>1.652977</td>\n",
       "      <td>805</td>\n",
       "      <td>2</td>\n",
       "      <td>1</td>\n",
       "      <td>0</td>\n",
       "      <td>1</td>\n",
       "      <td>1</td>\n",
       "      <td>2</td>\n",
       "      <td>2</td>\n",
       "      <td>0</td>\n",
       "      <td>1</td>\n",
       "      <td>1</td>\n",
       "      <td>4</td>\n",
       "    </tr>\n",
       "    <tr>\n",
       "      <th>3837</th>\n",
       "      <td>18287.0</td>\n",
       "      <td>4</td>\n",
       "      <td>3</td>\n",
       "      <td>1837.28</td>\n",
       "      <td>22.657143</td>\n",
       "      <td>1586</td>\n",
       "      <td>0</td>\n",
       "      <td>0</td>\n",
       "      <td>0</td>\n",
       "      <td>0</td>\n",
       "      <td>1</td>\n",
       "      <td>0</td>\n",
       "      <td>0</td>\n",
       "      <td>0</td>\n",
       "      <td>0</td>\n",
       "      <td>2</td>\n",
       "      <td>0</td>\n",
       "    </tr>\n",
       "  </tbody>\n",
       "</table>\n",
       "<p>3838 rows × 17 columns</p>\n",
       "</div>"
      ],
      "text/plain": [
       "      CustomerID  recency  frequency  monetary  quantity_avg  quantity_total  \\\n",
       "0        12346.0      287          2      0.00      0.000000               0   \n",
       "1        12347.0        1          5   3373.39     13.907143            1947   \n",
       "2        12348.0       37          3    904.44     77.642857            1087   \n",
       "3        12350.0      272          1    334.40     11.588235             197   \n",
       "4        12352.0       34         10   1233.68      4.287500             343   \n",
       "...          ...      ...        ...       ...           ...             ...   \n",
       "3833     18280.0      239          1    180.60      4.500000              45   \n",
       "3834     18281.0      142          1     80.82      7.714286              54   \n",
       "3835     18282.0       84          2     98.76      8.750000              70   \n",
       "3836     18283.0        5         11   1235.32      1.652977             805   \n",
       "3837     18287.0        4          3   1837.28     22.657143            1586   \n",
       "\n",
       "      1  2  3  4  5  6  7  8  9  10  11  \n",
       "0     2  0  0  0  0  0  0  0  0   0   0  \n",
       "1     1  0  0  1  0  1  0  1  0   1   0  \n",
       "2     1  0  0  1  0  0  0  0  1   0   0  \n",
       "3     0  1  0  0  0  0  0  0  0   0   0  \n",
       "4     0  1  7  0  0  0  0  0  2   0   1  \n",
       "...  .. .. .. .. .. .. .. .. ..  ..  ..  \n",
       "3833  0  0  1  0  0  0  0  0  0   0   0  \n",
       "3834  0  0  0  0  0  1  0  0  0   0   0  \n",
       "3835  0  0  0  0  0  0  0  2  0   0   0  \n",
       "3836  2  1  0  1  1  2  2  0  1   1   4  \n",
       "3837  0  0  0  0  1  0  0  0  0   2   0  \n",
       "\n",
       "[3838 rows x 17 columns]"
      ]
     },
     "execution_count": 24,
     "metadata": {},
     "output_type": "execute_result"
    }
   ],
   "source": [
    "#Flat the pivot table\n",
    "flattened = pd.DataFrame(cust_month_tx.to_records())\n",
    "\n",
    "#Left join Flattened pivot table to the features table on CustomerID\n",
    "join = features.merge(flattened, on = 'CustomerID')\n",
    "join"
   ]
  },
  {
   "cell_type": "markdown",
   "metadata": {},
   "source": [
    "Now, the dataset is perfectly in equal length so we can do spliting to train/test set"
   ]
  },
  {
   "cell_type": "code",
   "execution_count": 25,
   "metadata": {},
   "outputs": [],
   "source": [
    "#Finalise data preparation and split to train/test\n",
    "\n",
    "#Store identifier and target variable column names\n",
    "custid = ['CustomerID']\n",
    "target = ['11']\n",
    "#Extract target variable \n",
    "Y = join[target]\n",
    "\n",
    "#Extract features for culumns name\n",
    "cols = [col for col in features.columns if col not in custid]\n",
    "\n",
    "#Store features\n",
    "X = features[cols]"
   ]
  },
  {
   "cell_type": "code",
   "execution_count": 26,
   "metadata": {},
   "outputs": [
    {
     "name": "stdout",
     "output_type": "stream",
     "text": [
      "(2878, 5) (960, 5) (2878, 1) (960, 1)\n"
     ]
    }
   ],
   "source": [
    "from sklearn.model_selection import train_test_split\n",
    "#Split data to training and testing\n",
    "train_X, test_X, train_Y, test_Y = train_test_split(X, Y, test_size=0.25, random_state = 99)\n",
    "\n",
    "#Print the shape of the datasets\n",
    "print(train_X.shape, test_X.shape, train_Y.shape, test_Y.shape )"
   ]
  },
  {
   "cell_type": "code",
   "execution_count": 27,
   "metadata": {},
   "outputs": [],
   "source": [
    "from sklearn.linear_model import LinearRegression\n",
    "# Initialize linear regression instance\n",
    "linreg = LinearRegression()\n",
    "\n",
    "# Fit the model to training dataset\n",
    "linreg.fit(train_X, train_Y)\n",
    "\n",
    "# Predict the target variable for training data\n",
    "train_pred_Y = linreg.predict(train_X)\n",
    "\n",
    "# Predict the target variable for testing data\n",
    "test_pred_Y = linreg.predict(test_X)"
   ]
  },
  {
   "cell_type": "code",
   "execution_count": 28,
   "metadata": {},
   "outputs": [
    {
     "name": "stdout",
     "output_type": "stream",
     "text": [
      "RMSE train: 1.1701949844696629; RMSE test: 1.0159673743701614\n",
      "MAE train: 0.6862575178064119, MAE test: 0.6416455269887983\n"
     ]
    }
   ],
   "source": [
    "from sklearn.metrics import mean_squared_error\n",
    "from sklearn.metrics import mean_absolute_error\n",
    "# Calculate root mean squared error on training data\n",
    "rmse_train = np.sqrt(mean_squared_error(train_Y, train_pred_Y))\n",
    "\n",
    "# Calculate mean absolute error on training data\n",
    "mae_train = mean_absolute_error(train_Y, train_pred_Y)\n",
    "\n",
    "# Calculate root mean squared error on testing data\n",
    "rmse_test = np.sqrt(mean_squared_error(test_Y, test_pred_Y))\n",
    "\n",
    "# Calculate mean absolute error on testing data\n",
    "mae_test = mean_absolute_error(test_Y, test_pred_Y)\n",
    "\n",
    "# Print the performance metrics\n",
    "print('RMSE train: {}; RMSE test: {}\\nMAE train: {}, MAE test: {}'.format(rmse_train, rmse_test, mae_train, mae_test))"
   ]
  },
  {
   "cell_type": "code",
   "execution_count": 29,
   "metadata": {},
   "outputs": [
    {
     "name": "stdout",
     "output_type": "stream",
     "text": [
      "                                 OLS Regression Results                                \n",
      "=======================================================================================\n",
      "Dep. Variable:                     11   R-squared (uncentered):                   0.618\n",
      "Model:                            OLS   Adj. R-squared (uncentered):              0.618\n",
      "Method:                 Least Squares   F-statistic:                              930.8\n",
      "Date:                Wed, 04 Nov 2020   Prob (F-statistic):                        0.00\n",
      "Time:                        09:42:33   Log-Likelihood:                         -4536.2\n",
      "No. Observations:                2878   AIC:                                      9082.\n",
      "Df Residuals:                    2873   BIC:                                      9112.\n",
      "Df Model:                           5                                                  \n",
      "Covariance Type:            nonrobust                                                  \n",
      "==================================================================================\n",
      "                     coef    std err          t      P>|t|      [0.025      0.975]\n",
      "----------------------------------------------------------------------------------\n",
      "recency           -0.0003      0.000     -1.634      0.102      -0.001    6.29e-05\n",
      "frequency          0.1671      0.003     54.698      0.000       0.161       0.173\n",
      "monetary        7.238e-06   7.14e-06      1.014      0.311   -6.76e-06    2.12e-05\n",
      "quantity_avg      -0.0002      0.000     -0.936      0.349      -0.001       0.000\n",
      "quantity_total -1.084e-05   1.29e-05     -0.839      0.401   -3.62e-05    1.45e-05\n",
      "==============================================================================\n",
      "Omnibus:                     3050.656   Durbin-Watson:                   1.941\n",
      "Prob(Omnibus):                  0.000   Jarque-Bera (JB):          1103534.374\n",
      "Skew:                           4.615   Prob(JB):                         0.00\n",
      "Kurtosis:                      98.485   Cond. No.                     1.24e+03\n",
      "==============================================================================\n",
      "\n",
      "Notes:\n",
      "[1] R² is computed without centering (uncentered) since the model does not contain a constant.\n",
      "[2] Standard Errors assume that the covariance matrix of the errors is correctly specified.\n",
      "[3] The condition number is large, 1.24e+03. This might indicate that there are\n",
      "strong multicollinearity or other numerical problems.\n"
     ]
    }
   ],
   "source": [
    "# Import `statsmodels.api` module\n",
    "import statsmodels.api as sm\n",
    "\n",
    "# Initialize model instance on the training data\n",
    "olsreg = sm.OLS(train_Y, train_X)\n",
    "\n",
    "# Fit the model\n",
    "olsreg = olsreg.fit()\n",
    "\n",
    "# Print model summary\n",
    "print(olsreg.summary())"
   ]
  },
  {
   "cell_type": "markdown",
   "metadata": {},
   "source": [
    "### Model result interpretation\n",
    "\n",
    "##### R-squared and Adj. R-squared\n",
    "    \n",
    "    It signifies the “percentage variation in dependent that is explained by independent variables”. In our case, 61,8% variation Sales is explained by recency, frequency, monetary, quantity_avg and  quantity_total. The rest we can assume by excluding the expandability of the customer size intinially and the model error. \n",
    "    \n",
    "##### Prob(F-Statistic): \n",
    "\n",
    "    The overall significance of the regression. The null hypothesis under this is “all the regression coefficients are equal to zero”. Prob(F-statistics) depicts the probability of null hypothesis being true. As per the above results, probability is 0, This implies the regressions is meaningful.\n",
    "    \n",
    "##### Durbin-watson: \n",
    "\n",
    "    Another assumption of OLS is of homoscedasticity. This implies that the variance of errors is constant. A value between 1 to 2 is preferred. Here, it is 1.941 implying that the regression results are reliable from the interpretation side of this metric.\n",
    "\n",
    "##### Prob(Omnibus): \n",
    "\n",
    "    Assumptions of OLS is that the errors are normally distributed. Omnibus test is performed in order to check this. Here, the null hypothesis is that the errors are normally distributed. Prob(Omnibus) is supposed to be close to the 1 in order for it to satisfy the OLS assumption. In this case Prob(Omnibus) is 0, which implies that the OLS assumption is <b>not satisfied<b>. Due to this, the coefficients estimated out of it are not Best Linear Unbiased Estimators(BLUE).\n",
    "    \n",
    "##### Coefficients\n",
    "\n",
    "    frequency Seems to have a strong coefficient to the outcome of sales, from our result, 16.7% of sales decided by this variable, since other variables do not have a significant impact on the result. \n",
    "        \n",
    "        This is also explained by P values, where this value is high for all vairables but exeptionally accepted at which to reject the null hypothesis.(With a P value of 0%  there is no chance that results you are seeing would have come up in a random distribution, so you can say with a 100% probability of being correct that the variable is having some effect, assuming your model is specified correctly.)"
   ]
  },
  {
   "cell_type": "markdown",
   "metadata": {},
   "source": [
    "## 5. Conclusion\n",
    "\n",
    "This case study again shows the strong implementation of the \"80/20\" principle in the business, despite the non-contractual model of the quick, fast buying online retail model. \n",
    "\n",
    "Throughout the analysis, the company should take special care to their business partner - these outliners on our invoice-values distribution chart, which generated high incoming for the company and had a high frequency of purchasing product. \n",
    "\n",
    "Moreover, besides taking good care of existing customers, attracting new ones is also essential as it creates a wider environment for the business to grow.\n"
   ]
  },
  {
   "cell_type": "code",
   "execution_count": null,
   "metadata": {},
   "outputs": [],
   "source": []
  }
 ],
 "metadata": {
  "kernelspec": {
   "display_name": "Python 3",
   "language": "python",
   "name": "python3"
  },
  "language_info": {
   "codemirror_mode": {
    "name": "ipython",
    "version": 3
   },
   "file_extension": ".py",
   "mimetype": "text/x-python",
   "name": "python",
   "nbconvert_exporter": "python",
   "pygments_lexer": "ipython3",
   "version": "3.6.3"
  }
 },
 "nbformat": 4,
 "nbformat_minor": 4
}
